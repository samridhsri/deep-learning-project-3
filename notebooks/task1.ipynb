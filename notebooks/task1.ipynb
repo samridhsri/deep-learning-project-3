{
 "cells": [
  {
   "cell_type": "code",
   "execution_count": 10,
   "metadata": {},
   "outputs": [],
   "source": [
    "import torch\n",
    "import torchvision\n",
    "import torchvision.transforms as transforms\n",
    "from torch.utils.data import DataLoader\n",
    "import numpy as np\n",
    "import json\n",
    "import os\n",
    "from tqdm import tqdm # Optional: for a progress bar\n",
    "import re # For parsing the label string"
   ]
  },
  {
   "cell_type": "code",
   "execution_count": 11,
   "metadata": {},
   "outputs": [],
   "source": [
    "DATASET_PATH = \"../TestDataSet\"\n",
    "# !!! Path to YOUR specific JSON file listing the 100 classes for TestDataSet IN ORDER !!!\n",
    "# This is the JSON mentioned in the original prompt for your dataset.\n",
    "DATASET_SPECIFIC_JSON_PATH = \"../TestDataSet/labels_list.json\"\n",
    "MODEL_WEIGHTS = 'IMAGENET1K_V1'\n",
    "BATCH_SIZE = 32\n",
    "NUM_WORKERS = 0"
   ]
  },
  {
   "cell_type": "code",
   "execution_count": 12,
   "metadata": {},
   "outputs": [
    {
     "name": "stdout",
     "output_type": "stream",
     "text": [
      "Using device: cuda\n",
      "Loading ResNet-34 model with IMAGENET1K_V1 weights...\n",
      "Model loaded successfully.\n"
     ]
    }
   ],
   "source": [
    "# --- Device Setup ---\n",
    "device = torch.device(\"cuda\" if torch.cuda.is_available() else \"cpu\")\n",
    "print(f\"Using device: {device}\")\n",
    "\n",
    "# --- Load Pre-trained Model ---\n",
    "print(f\"Loading ResNet-34 model with {MODEL_WEIGHTS} weights...\")\n",
    "model = torchvision.models.resnet34(weights=MODEL_WEIGHTS)\n",
    "model.to(device)\n",
    "model.eval()\n",
    "print(\"Model loaded successfully.\")"
   ]
  },
  {
   "cell_type": "code",
   "execution_count": 13,
   "metadata": {},
   "outputs": [],
   "source": [
    "mean_norms = np.array([0.485, 0.456, 0.406])\n",
    "std_norms = np.array([0.229, 0.224, 0.225])\n",
    "eval_transforms = transforms.Compose([\n",
    "    transforms.ToTensor(),\n",
    "    transforms.Normalize(mean=mean_norms, std=std_norms)\n",
    "])"
   ]
  },
  {
   "cell_type": "code",
   "execution_count": 14,
   "metadata": {},
   "outputs": [
    {
     "name": "stdout",
     "output_type": "stream",
     "text": [
      "Loading dataset from: ../TestDataSet\n",
      "Dataset loaded: 500 images found in 100 classes.\n",
      "ImageFolder assigned indices based on this alphabetical folder order: ['n02672831', 'n02676566', 'n02687172', 'n02690373', 'n02692877', 'n02699494', 'n02701002', 'n02704792', 'n02708093', 'n02727426', 'n02730930', 'n02747177', 'n02749479', 'n02769748', 'n02776631', 'n02777292', 'n02782093', 'n02783161', 'n02786058', 'n02787622', 'n02788148', 'n02790996', 'n02791124', 'n02791270', 'n02793495', 'n02794156', 'n02795169', 'n02797295', 'n02799071', 'n02802426', 'n02804414', 'n02804610', 'n02807133', 'n02808304', 'n02808440', 'n02814533', 'n02814860', 'n02815834', 'n02817516', 'n02823428', 'n02823750', 'n02825657', 'n02834397', 'n02835271', 'n02837789', 'n02840245', 'n02841315', 'n02843684', 'n02859443', 'n02860847', 'n02865351', 'n02869837', 'n02870880', 'n02871525', 'n02877765', 'n02879718', 'n02883205', 'n02892201', 'n02892767', 'n02894605', 'n02895154', 'n02906734', 'n02909870', 'n02910353', 'n02916936', 'n02917067', 'n02927161', 'n02930766', 'n02939185', 'n02948072', 'n02950826', 'n02951358', 'n02951585', 'n02963159', 'n02965783', 'n02966193', 'n02966687', 'n02971356', 'n02974003', 'n02977058', 'n02978881', 'n02979186', 'n02980441', 'n02981792', 'n02988304', 'n02992211', 'n02992529', 'n02999410', 'n03000134', 'n03000247', 'n03000684', 'n03014705', 'n03016953', 'n03017168', 'n03018349', 'n03026506', 'n03028079', 'n03032252', 'n03041632', 'n03042490']\n"
     ]
    }
   ],
   "source": [
    "# --- Load Dataset using ImageFolder ---\n",
    "# ImageFolder sorts folders alphabetically and assigns indices 0, 1, 2...\n",
    "print(f\"Loading dataset from: {DATASET_PATH}\")\n",
    "if not os.path.isdir(DATASET_PATH):\n",
    "    raise FileNotFoundError(f\"Dataset directory not found at '{DATASET_PATH}'.\")\n",
    "\n",
    "dataset = torchvision.datasets.ImageFolder(\n",
    "    root=DATASET_PATH,\n",
    "    transform=eval_transforms\n",
    ")\n",
    "\n",
    "test_loader = DataLoader(\n",
    "    dataset, batch_size=BATCH_SIZE, shuffle=False,\n",
    "    num_workers=NUM_WORKERS, pin_memory=True\n",
    ")\n",
    "\n",
    "num_imagefolder_classes = len(dataset.classes)\n",
    "print(f\"Dataset loaded: {len(dataset)} images found in {num_imagefolder_classes} classes.\")\n",
    "print(\"ImageFolder assigned indices based on this alphabetical folder order:\", dataset.classes) # Display the order\n"
   ]
  },
  {
   "cell_type": "code",
   "execution_count": 15,
   "metadata": {},
   "outputs": [
    {
     "name": "stdout",
     "output_type": "stream",
     "text": [
      "Loading dataset-specific labels from: ../TestDataSet/labels_list.json\n",
      "Building mapping assuming ImageFolder order matches JSON order...\n",
      "Mapping built successfully based on order correspondence.\n"
     ]
    }
   ],
   "source": [
    "print(f\"Loading dataset-specific labels from: {DATASET_SPECIFIC_JSON_PATH}\")\n",
    "imagefolder_idx_to_imagenet_idx = {}\n",
    "try:\n",
    "    with open(DATASET_SPECIFIC_JSON_PATH, 'r') as f:\n",
    "        # Assuming the JSON is a list of strings like \"401: accordion\"\n",
    "        ordered_labels_from_json = json.load(f)\n",
    "\n",
    "    if not isinstance(ordered_labels_from_json, list):\n",
    "        raise ValueError(\"Expected the JSON file to contain a list of labels.\")\n",
    "\n",
    "    num_json_labels = len(ordered_labels_from_json)\n",
    "\n",
    "    if num_json_labels != num_imagefolder_classes:\n",
    "        print(f\"\\n--- WARNING ---\")\n",
    "        print(f\"Mismatch in the number of classes!\")\n",
    "        print(f\"ImageFolder found {num_imagefolder_classes} subdirectories (classes) in '{DATASET_PATH}'.\")\n",
    "        print(f\"The JSON file '{DATASET_SPECIFIC_JSON_PATH}' contains {num_json_labels} label entries.\")\n",
    "        print(f\"The 'same order' assumption requires these numbers to match.\")\n",
    "        print(f\"Proceeding, but the mapping might be incorrect.\")\n",
    "        print(f\"-------------\")\n",
    "        # Decide if you want to exit here: exit()\n",
    "\n",
    "    print(\"Building mapping assuming ImageFolder order matches JSON order...\")\n",
    "    parse_errors = 0\n",
    "    for i in range(min(num_imagefolder_classes, num_json_labels)): # Iterate up to the minimum length\n",
    "        label_str = ordered_labels_from_json[i]\n",
    "        try:\n",
    "            # Use regex to find the first number (the index) in the string\n",
    "            match = re.match(r\"\\s*(\\d+)\\s*:\", label_str)\n",
    "            if match:\n",
    "                true_imagenet_index = int(match.group(1))\n",
    "                imagefolder_idx_to_imagenet_idx[i] = true_imagenet_index\n",
    "                # print(f\"  Mapping ImageFolder index {i} (Folder: {dataset.classes[i]}) -> JSON Entry '{label_str}' -> ImageNet Index {true_imagenet_index}\") # Debug\n",
    "            else:\n",
    "                raise ValueError(f\"Could not parse index from label string: '{label_str}'\")\n",
    "        except Exception as e:\n",
    "            print(f\"Error parsing label at index {i} from JSON ('{label_str}'): {e}\")\n",
    "            parse_errors += 1\n",
    "\n",
    "    if parse_errors > 0:\n",
    "        print(f\"Warning: Encountered {parse_errors} errors while parsing labels from JSON.\")\n",
    "        print(\"Evaluation might be inaccurate.\")\n",
    "    elif not imagefolder_idx_to_imagenet_idx:\n",
    "         print(\"ERROR: Could not build any mappings. Check JSON format and parsing logic.\")\n",
    "         exit()\n",
    "    else:\n",
    "        print(\"Mapping built successfully based on order correspondence.\")\n",
    "\n",
    "\n",
    "except FileNotFoundError:\n",
    "    print(f\"\\n--- ERROR ---\")\n",
    "    print(f\"Dataset-specific label file '{DATASET_SPECIFIC_JSON_PATH}' not found.\")\n",
    "    print(f\"Please ensure this file exists and the path is correct.\")\n",
    "    print(f\"-------------\")\n",
    "    exit()\n",
    "except Exception as e:\n",
    "    print(f\"An error occurred while loading or processing {DATASET_SPECIFIC_JSON_PATH}: {e}\")\n",
    "    exit()\n"
   ]
  },
  {
   "cell_type": "code",
   "execution_count": 16,
   "metadata": {},
   "outputs": [
    {
     "name": "stdout",
     "output_type": "stream",
     "text": [
      "Starting evaluation...\n"
     ]
    },
    {
     "name": "stderr",
     "output_type": "stream",
     "text": [
      "Evaluating Batches: 100%|██████████| 16/16 [00:01<00:00, 11.65it/s]\n"
     ]
    }
   ],
   "source": [
    "# --- Evaluation Loop ---\n",
    "top1_correct = 0\n",
    "top5_correct = 0\n",
    "total_samples = 0\n",
    "\n",
    "print(\"Starting evaluation...\")\n",
    "with torch.no_grad():\n",
    "    for inputs, imagefolder_labels in tqdm(test_loader, desc=\"Evaluating Batches\"):\n",
    "        inputs = inputs.to(device)\n",
    "        # imagefolder_labels contains the indices assigned by ImageFolder (0, 1, 2...)\n",
    "\n",
    "        # Prepare lists to hold batch data (only for samples with valid mappings)\n",
    "        valid_indices_batch = []\n",
    "        true_imagenet_labels_list = []\n",
    "\n",
    "        # Convert ImageFolder labels to true ImageNet labels one by one using the order-based map\n",
    "        for i, label_idx in enumerate(imagefolder_labels.tolist()):\n",
    "            if label_idx in imagefolder_idx_to_imagenet_idx:\n",
    "                 valid_indices_batch.append(i)\n",
    "                 true_imagenet_labels_list.append(imagefolder_idx_to_imagenet_idx[label_idx])\n",
    "            # else: # This case should not happen if lengths matched and parsing worked\n",
    "            #     print(f\"Warning: ImageFolder index {label_idx} not found in mapping. Skipping sample.\")\n",
    "\n",
    "        # If no valid samples in this batch, skip\n",
    "        if not valid_indices_batch:\n",
    "            continue\n",
    "\n",
    "        # Select only the inputs corresponding to valid labels\n",
    "        valid_inputs = inputs[valid_indices_batch]\n",
    "        true_imagenet_labels = torch.tensor(true_imagenet_labels_list, dtype=torch.long).to(device)\n",
    "\n",
    "        # Get model predictions for the valid inputs\n",
    "        outputs = model(valid_inputs)\n",
    "        _, topk_preds = torch.topk(outputs, 5, dim=1)\n",
    "\n",
    "        # Update counts based on the number of *valid* samples processed in this batch\n",
    "        batch_valid_samples = true_imagenet_labels.size(0)\n",
    "        total_samples += batch_valid_samples\n",
    "\n",
    "        # Top-1 Accuracy\n",
    "        top1_correct += torch.eq(topk_preds[:, 0], true_imagenet_labels).sum().item()\n",
    "\n",
    "        # Top-5 Accuracy\n",
    "        labels_reshaped = true_imagenet_labels.view(-1, 1).expand_as(topk_preds)\n",
    "        correct_top5 = torch.eq(labels_reshaped, topk_preds).sum(dim=1)\n",
    "        top5_correct += correct_top5.sum().item()\n"
   ]
  },
  {
   "cell_type": "code",
   "execution_count": 17,
   "metadata": {},
   "outputs": [
    {
     "name": "stdout",
     "output_type": "stream",
     "text": [
      "\n",
      "--- Evaluation Results ---\n",
      "Total Images Evaluated: 500\n",
      "Top-1 Accuracy: 76.00% (380/500)\n",
      "Top-5 Accuracy: 94.20% (471/500)\n",
      "\n",
      "NOTE: Accuracy relies on the assumption that the alphabetical order of folders\n",
      "in '../TestDataSet' exactly matches the order of labels in '../TestDataSet/labels_list.json'.\n"
     ]
    }
   ],
   "source": [
    "# --- Calculate and Report Accuracy ---\n",
    "if total_samples == 0:\n",
    "    print(\"\\nNo samples were processed successfully. Check JSON path, format, parsing, and folder structure.\")\n",
    "    top1_accuracy = 0\n",
    "    top5_accuracy = 0\n",
    "else:\n",
    "    top1_accuracy = (top1_correct / total_samples) * 100\n",
    "    top5_accuracy = (top5_correct / total_samples) * 100\n",
    "\n",
    "print(\"\\n--- Evaluation Results ---\")\n",
    "print(f\"Total Images Evaluated: {total_samples}\")\n",
    "print(f\"Top-1 Accuracy: {top1_accuracy:.2f}% ({top1_correct}/{total_samples})\")\n",
    "print(f\"Top-5 Accuracy: {top5_accuracy:.2f}% ({top5_correct}/{total_samples})\")\n",
    "print(\"\\nNOTE: Accuracy relies on the assumption that the alphabetical order of folders\")\n",
    "print(f\"in '{DATASET_PATH}' exactly matches the order of labels in '{DATASET_SPECIFIC_JSON_PATH}'.\")"
   ]
  },
  {
   "cell_type": "code",
   "execution_count": null,
   "metadata": {},
   "outputs": [],
   "source": []
  }
 ],
 "metadata": {
  "kernelspec": {
   "display_name": "dlproject",
   "language": "python",
   "name": "python3"
  },
  "language_info": {
   "codemirror_mode": {
    "name": "ipython",
    "version": 3
   },
   "file_extension": ".py",
   "mimetype": "text/x-python",
   "name": "python",
   "nbconvert_exporter": "python",
   "pygments_lexer": "ipython3",
   "version": "3.9.21"
  }
 },
 "nbformat": 4,
 "nbformat_minor": 2
}
