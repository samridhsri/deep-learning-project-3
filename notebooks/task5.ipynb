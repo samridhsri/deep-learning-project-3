{
 "cells": [
  {
   "cell_type": "code",
   "execution_count": 1,
   "metadata": {},
   "outputs": [],
   "source": [
    "import torch\n",
    "import torchvision\n",
    "from torch.utils.data import DataLoader, Dataset\n",
    "import os, json\n",
    "from PIL import Image\n",
    "from torchvision import transforms\n",
    "from tqdm import tqdm"
   ]
  },
  {
   "cell_type": "code",
   "execution_count": 12,
   "metadata": {},
   "outputs": [],
   "source": [
    "# ==============================================================================\n",
    "# Configuration Constants\n",
    "# ==============================================================================\n",
    "# --- Paths ---\n",
    "# NOTE: Adjust these paths to your environment\n",
    "DATASET_PATH = \"../TestDataSet\"  # Path to the original dataset (ImageFolder structure)\n",
    "LABEL_JSON_PATH = os.path.join(DATASET_PATH, \"labels_list.json\") # Path to the JSON file mapping folder order to ImageNet indices\n",
    "ADV_DATASET_PATH_TASK1 = \"../Adversarial_Test_Set_1\" # Output directory for PGD adversarial images\n",
    "ADV_DATASET_PATH_TASK2 = \"../AdversarialTestSet2_PGD_Refactored\" # Output directory for PGD adversarial images\n",
    "ADV_DATASET_PATH_TASK3 = \"../Adversarial_Test_Set_3\" # Output directory for PGD adversarial images\n",
    "\n",
    "# --- Model & Device ---\n",
    "DEVICE = torch.device(\"cuda\" if torch.cuda.is_available() else \"cpu\")\n",
    "WEIGHTS = 'IMAGENET1K_V1'\n",
    "# --- PGD Attack Parameters ---\n",
    "# Epsilon: Max L-infinity perturbation allowed (relative to [0, 1] pixel range)\n",
    "EPSILON = 0.02\n",
    "# Alpha: Step size for each PGD iteration (often eps / iters or smaller)\n",
    "PGD_ALPHA = 0.005 # As provided in user's code\n",
    "# Iterations: Number of PGD steps\n",
    "PGD_ITERS = 5     # As provided in user's code\n",
    "\n",
    "# --- Dataloader Parameters ---\n",
    "BATCH_SIZE = 32  # Adjusted for potentially faster generation/evaluation\n",
    "NUM_WORKERS = 0  # Adjust based on your system\n"
   ]
  },
  {
   "cell_type": "code",
   "execution_count": 13,
   "metadata": {},
   "outputs": [],
   "source": [
    "\n",
    "with open(LABEL_JSON_PATH, \"r\") as f:\n",
    "    label_lines = json.load(f)\n",
    "true_imagenet_indices = [int(line.split(\":\")[0]) for line in label_lines]"
   ]
  },
  {
   "cell_type": "code",
   "execution_count": 14,
   "metadata": {},
   "outputs": [],
   "source": [
    "orig_folder = torchvision.datasets.ImageFolder(root=DATASET_PATH, transform=None)\n",
    "folder_to_imagenet_index = {\n",
    "    class_name: true_imagenet_indices[i]\n",
    "    for i, class_name in enumerate(orig_folder.classes)\n",
    "}"
   ]
  },
  {
   "cell_type": "code",
   "execution_count": 15,
   "metadata": {},
   "outputs": [],
   "source": [
    "orig_folder.samples = [\n",
    "    (path, folder_to_imagenet_index[os.path.basename(os.path.dirname(path))])\n",
    "    for path, _ in orig_folder.samples\n",
    "]"
   ]
  },
  {
   "cell_type": "code",
   "execution_count": 16,
   "metadata": {},
   "outputs": [],
   "source": [
    "orig_folder.samples.sort(key=lambda x: x[0])\n",
    "orig_labels = [lbl for _, lbl in orig_folder.samples]"
   ]
  },
  {
   "cell_type": "code",
   "execution_count": 17,
   "metadata": {},
   "outputs": [],
   "source": [
    "class AdvDataset(Dataset):\n",
    "    def __init__(self, image_dir, true_labels, transform=None):\n",
    "        self.image_paths = sorted(\n",
    "            os.path.join(image_dir, fn)\n",
    "            for fn in os.listdir(image_dir) if fn.endswith(\".png\")\n",
    "        )\n",
    "        assert len(self.image_paths) == len(true_labels), (\n",
    "            f\"Found {len(self.image_paths)} images but {len(true_labels)} labels\"\n",
    "        )\n",
    "        self.labels = true_labels\n",
    "        self.transform = transform\n",
    "\n",
    "    def __len__(self):\n",
    "        return len(self.image_paths)\n",
    "\n",
    "    def __getitem__(self, idx):\n",
    "        img = Image.open(self.image_paths[idx]).convert(\"RGB\")\n",
    "        if self.transform:\n",
    "            img = self.transform(img)\n",
    "        label = self.labels[idx]\n",
    "        return img, label"
   ]
  },
  {
   "cell_type": "code",
   "execution_count": 18,
   "metadata": {},
   "outputs": [],
   "source": [
    "device = torch.device(\"cuda\" if torch.cuda.is_available() else \"cpu\")\n",
    "new_model = torchvision.models.densenet121(weights='IMAGENET1K_V1')\n",
    "new_model.eval().to(device)\n",
    "\n",
    "mean = [0.485, 0.456, 0.406]\n",
    "std  = [0.229, 0.224, 0.225]\n",
    "transform = transforms.Compose([\n",
    "    transforms.ToTensor(),\n",
    "    transforms.Normalize(mean=mean, std=std)\n",
    "])\n",
    "\n",
    "paths = {\n",
    "    \"Original\": DATASET_PATH,\n",
    "    \"FGSM\":     ADV_DATASET_PATH_TASK1,\n",
    "    \"PGD\":      ADV_DATASET_PATH_TASK2,\n",
    "    \"Patch\":    ADV_DATASET_PATH_TASK3,\n",
    "}\n"
   ]
  },
  {
   "cell_type": "code",
   "execution_count": 19,
   "metadata": {},
   "outputs": [],
   "source": [
    "def evaluate(model, loader):\n",
    "    top1 = top5 = total = 0\n",
    "    with torch.no_grad():\n",
    "        for imgs, lbls in tqdm(loader):\n",
    "            imgs, lbls = imgs.to(device), lbls.to(device)\n",
    "            out = model(imgs)\n",
    "            _, t1 = out.topk(1, dim=1)\n",
    "            _, t5 = out.topk(5, dim=1)\n",
    "            top1 += (t1.squeeze() == lbls).sum().item()\n",
    "            top5 += sum([lbls[i] in t5[i] for i in range(len(lbls))])\n",
    "            total += imgs.size(0)\n",
    "    return 100*top1/total, 100*top5/total"
   ]
  },
  {
   "cell_type": "code",
   "execution_count": 20,
   "metadata": {},
   "outputs": [
    {
     "name": "stdout",
     "output_type": "stream",
     "text": [
      "\n",
      "📊 Evaluating Original dataset on DenseNet-121:\n"
     ]
    },
    {
     "name": "stderr",
     "output_type": "stream",
     "text": [
      "100%|██████████| 16/16 [00:02<00:00,  7.77it/s]\n"
     ]
    },
    {
     "name": "stdout",
     "output_type": "stream",
     "text": [
      "→ Top-1: 74.60%   Top-5: 93.60%\n",
      "\n",
      "📊 Evaluating FGSM dataset on DenseNet-121:\n"
     ]
    },
    {
     "name": "stderr",
     "output_type": "stream",
     "text": [
      "100%|██████████| 16/16 [00:06<00:00,  2.39it/s]\n"
     ]
    },
    {
     "name": "stdout",
     "output_type": "stream",
     "text": [
      "→ Top-1: 43.00%   Top-5: 66.40%\n",
      "\n",
      "📊 Evaluating PGD dataset on DenseNet-121:\n"
     ]
    },
    {
     "name": "stderr",
     "output_type": "stream",
     "text": [
      "100%|██████████| 16/16 [00:06<00:00,  2.37it/s]\n"
     ]
    },
    {
     "name": "stdout",
     "output_type": "stream",
     "text": [
      "→ Top-1: 39.40%   Top-5: 64.20%\n",
      "\n",
      "📊 Evaluating Patch dataset on DenseNet-121:\n"
     ]
    },
    {
     "name": "stderr",
     "output_type": "stream",
     "text": [
      "100%|██████████| 16/16 [00:06<00:00,  2.43it/s]"
     ]
    },
    {
     "name": "stdout",
     "output_type": "stream",
     "text": [
      "→ Top-1: 41.80%   Top-5: 65.80%\n"
     ]
    },
    {
     "name": "stderr",
     "output_type": "stream",
     "text": [
      "\n"
     ]
    }
   ],
   "source": [
    "results = {}\n",
    "for name, p in paths.items():\n",
    "    if name == \"Original\":\n",
    "        ds = orig_folder  # already has transform=None; now attach transform\n",
    "        ds.transform = transform\n",
    "    else:\n",
    "        ds = AdvDataset(p, orig_labels, transform)\n",
    "    loader = DataLoader(ds, batch_size=32, shuffle=False)\n",
    "    print(f\"\\n📊 Evaluating {name} dataset on DenseNet-121:\")\n",
    "    t1, t5 = evaluate(new_model, loader)\n",
    "    results[name] = (t1, t5)\n",
    "    print(f\"→ Top-1: {t1:.2f}%   Top-5: {t5:.2f}%\")"
   ]
  },
  {
   "cell_type": "code",
   "execution_count": null,
   "metadata": {},
   "outputs": [],
   "source": []
  }
 ],
 "metadata": {
  "kernelspec": {
   "display_name": "dlproject",
   "language": "python",
   "name": "python3"
  },
  "language_info": {
   "codemirror_mode": {
    "name": "ipython",
    "version": 3
   },
   "file_extension": ".py",
   "mimetype": "text/x-python",
   "name": "python",
   "nbconvert_exporter": "python",
   "pygments_lexer": "ipython3",
   "version": "3.9.21"
  }
 },
 "nbformat": 4,
 "nbformat_minor": 2
}
